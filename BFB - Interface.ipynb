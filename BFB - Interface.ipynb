{
 "cells": [
  {
   "cell_type": "code",
   "execution_count": 1,
   "id": "a6d218e0-fe93-4757-8274-5f646f4bdc68",
   "metadata": {},
   "outputs": [
    {
     "name": "stderr",
     "output_type": "stream",
     "text": [
      "C:\\Users\\shlok\\anaconda3\\envs\\Shlokaenv\\Lib\\site-packages\\tqdm\\auto.py:21: TqdmWarning: IProgress not found. Please update jupyter and ipywidgets. See https://ipywidgets.readthedocs.io/en/stable/user_install.html\n",
      "  from .autonotebook import tqdm as notebook_tqdm\n"
     ]
    }
   ],
   "source": [
    "import ollama\n",
    "import gradio as gr\n"
   ]
  },
  {
   "cell_type": "code",
   "execution_count": 2,
   "id": "0e209bee-c3c8-4a0e-bd3f-9a37784da966",
   "metadata": {},
   "outputs": [],
   "source": [
    "def create_prompt(age, gender, profession, area_of_concern, Description, religion, ethnicity):\n",
    "    prompt = (f\"A {age}-year-old {gender}, working as a {profession}, is facing issues in their {area_of_concern}{Description} \"\n",
    "              f\"This person lives in United States Of America, follows {religion}, and belongs to the {ethnicity} ethnicity. \"\n",
    "              f\"Describe briefly how might their cultural background (including their current country of residence, religion, and ethnicity) affect their {area_of_concern}, \"\n",
    "              f\"and what cultural factors should be taken into consideration?\")\n",
    "    return prompt\n"
   ]
  },
  {
   "cell_type": "code",
   "execution_count": 3,
   "id": "890b63a2-0aa0-4434-84a4-12f38510d556",
   "metadata": {},
   "outputs": [],
   "source": [
    "def get_model_response(prompt):\n",
    "    try:\n",
    "        response = ollama.generate(\n",
    "            model=\"llama3.2\",  # Assume llama3 is available\n",
    "            prompt=prompt\n",
    "        )\n",
    "        #print(response)\n",
    "        return response.get('response', 'No output generated.')  # Adjust based on response structure\n",
    "    except Exception as e:\n",
    "        return f\"Error in generating response: {e}\"\n"
   ]
  },
  {
   "cell_type": "code",
   "execution_count": 4,
   "id": "64521cad-7615-45c7-a8fc-e9ed0e5ca7c7",
   "metadata": {},
   "outputs": [],
   "source": [
    "def chatbot(age, gender, profession, area_of_concern, Description, religion, ethnicity, additional_query):\n",
    "    # Create the initial prompt for the model\n",
    "    prompt = create_prompt(age, gender, profession, area_of_concern, Description, religion, ethnicity)\n",
    "\n",
    "    # Get response from the model\n",
    "    response = get_model_response(prompt)\n",
    "\n",
    "    # If there's an additional query, include it in the prompt\n",
    "    if additional_query:\n",
    "        prompt += f\" Person's details: {age}, {gender}, {profession}, {area_of_concern}, {Description}, {religion}, {ethnicity}. {additional_query}\"\n",
    "        response += \"\\n\\n\" + get_model_response(prompt)\n",
    "    \n",
    "    return response"
   ]
  },
  {
   "cell_type": "code",
   "execution_count": 5,
   "id": "9dd5c575-aca9-456a-8188-c756e4de9092",
   "metadata": {},
   "outputs": [
    {
     "name": "stdout",
     "output_type": "stream",
     "text": [
      "Running on local URL:  http://127.0.0.1:7860\n",
      "\n",
      "To create a public link, set `share=True` in `launch()`.\n"
     ]
    },
    {
     "data": {
      "text/html": [
       "<div><iframe src=\"http://127.0.0.1:7860/\" width=\"100%\" height=\"500\" allow=\"autoplay; camera; microphone; clipboard-read; clipboard-write;\" frameborder=\"0\" allowfullscreen></iframe></div>"
      ],
      "text/plain": [
       "<IPython.core.display.HTML object>"
      ]
     },
     "metadata": {},
     "output_type": "display_data"
    }
   ],
   "source": [
    "# Create Gradio Interface\n",
    "iface = gr.Interface(\n",
    "    fn=chatbot,\n",
    "    inputs=[\n",
    "        gr.Textbox(label=\"Age\"),\n",
    "        gr.Textbox(label=\"Gender\"),\n",
    "        gr.Textbox(label=\"Profession\"),\n",
    "        gr.Textbox(label=\"Area of Concern\"),\n",
    "        gr.Textbox(label=\"Description\"),\n",
    "        gr.Textbox(label=\"Religion\"),\n",
    "        gr.Textbox(label=\"Ethnicity\"),\n",
    "        gr.Textbox(label=\"Additional Query\")\n",
    "    ],\n",
    "    outputs=\"text\",\n",
    "    title=\"Cultural Background Chatbot\",\n",
    "    description=\"Enter details about a person to get responses based on their cultural background.\"\n",
    ")\n",
    "\n",
    "if __name__ == \"__main__\":\n",
    "    iface.launch()"
   ]
  },
  {
   "cell_type": "code",
   "execution_count": null,
   "id": "c95ae9dd-66d2-402c-af77-f903b66b08c2",
   "metadata": {},
   "outputs": [],
   "source": []
  }
 ],
 "metadata": {
  "kernelspec": {
   "display_name": "Python 3 (ipykernel)",
   "language": "python",
   "name": "python3"
  },
  "language_info": {
   "codemirror_mode": {
    "name": "ipython",
    "version": 3
   },
   "file_extension": ".py",
   "mimetype": "text/x-python",
   "name": "python",
   "nbconvert_exporter": "python",
   "pygments_lexer": "ipython3",
   "version": "3.12.2"
  }
 },
 "nbformat": 4,
 "nbformat_minor": 5
}
